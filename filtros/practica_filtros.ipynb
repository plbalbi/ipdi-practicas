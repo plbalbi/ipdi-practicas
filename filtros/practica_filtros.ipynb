{
 "cells": [
  {
   "cell_type": "code",
   "execution_count": null,
   "metadata": {
    "collapsed": true
   },
   "outputs": [],
   "source": [
    "import sys\n",
    "sys.path.insert(0,'../libs')\n",
    "import fourier as foo\n",
    "import ecualizacion as equ\n",
    "from matplotlib import pyplot as plt\n",
    "import numpy as np\n",
    "from scipy import fftpack\n",
    "from scipy import misc\n",
    "# import seaborn as sns\n",
    "# sns.despine()\n",
    "from numpy import linalg\n",
    "from scipy.signal import convolve2d\n",
    "import random"
   ]
  },
  {
   "cell_type": "code",
   "execution_count": null,
   "metadata": {
    "collapsed": true
   },
   "outputs": [],
   "source": [
    "def convolve(I, K):\n",
    "    return convolve2d(I,K,mode=\"same\")"
   ]
  },
  {
   "cell_type": "code",
   "execution_count": null,
   "metadata": {
    "collapsed": true
   },
   "outputs": [],
   "source": [
    "def show_img(IMG, fig_size=(18,10)):\n",
    "    plt.figure(figsize=fig_size); plt.axis('off')\n",
    "    plt.imshow(IMG ,cmap='gray')\n",
    "    plt.show()\n",
    "    \n",
    "def show_img_s(IMG, titles=None, fig_size = (18,10)):\n",
    "    img_qty = len(IMG)\n",
    "    plt.figure(figsize=fig_size); \n",
    "    for i in range(img_qty):\n",
    "        plt.subplot(1,img_qty, i+1)\n",
    "        if titles != None:\n",
    "            plt.title(titles[i])\n",
    "        plt.imshow(IMG[i] ,cmap='gray'); plt.axis('off')\n",
    "    plt.tight_layout()\n",
    "    plt.show()"
   ]
  },
  {
   "cell_type": "markdown",
   "metadata": {},
   "source": [
    "## Ejercicio 1"
   ]
  },
  {
   "cell_type": "markdown",
   "metadata": {},
   "source": [
    "**freq_filter** toma como parámetros la imágen a filtrar, y una función de decisión. La misma, en pos de la *distancia* de una cierta amplitud para una frecuencia f al centro del espacio, decide si será removida o no."
   ]
  },
  {
   "cell_type": "code",
   "execution_count": null,
   "metadata": {
    "collapsed": true
   },
   "outputs": [],
   "source": [
    "def freq_filter(img, CUTOFF_FUN):\n",
    "    filtered_img = np.copy(img)\n",
    "    m = len(img); n = len(img[0])\n",
    "    distance = lambda i,j: np.sqrt(abs(i-m/2)**2 + abs(j-n/2)**2)\n",
    "    for i in range(m):\n",
    "        for j in range(n):\n",
    "            if not CUTOFF_FUN(distance(i,j)):\n",
    "                filtered_img[i][j] = 0\n",
    "    return filtered_img"
   ]
  },
  {
   "cell_type": "code",
   "execution_count": null,
   "metadata": {
    "collapsed": true
   },
   "outputs": [],
   "source": [
    "img = misc.imread('lena.png')"
   ]
  },
  {
   "cell_type": "markdown",
   "metadata": {},
   "source": [
    "**Nota:** Si en algun momento se reodernana los cuadrantes de la imagen en el dominio de las frecuencias, antes de ser convertido por la IFFT, los mismos deben tener el mismo orden; ya sea el original, o con el el (0,0) de las frecuencias centrado en la imagen. En el *code-block* de abajo se puede ver ejemplos de ciertos filtros. En cada uno, **l** y **h** hacen referencia a los valores de corte inferior y superior."
   ]
  },
  {
   "cell_type": "code",
   "execution_count": null,
   "metadata": {
    "collapsed": true
   },
   "outputs": [],
   "source": [
    "BAND_PASS_FILTER = lambda l,h: lambda d: (d <= l) or (d> h)\n",
    "LOW_PASS_FILTER = lambda l: lambda d: (d <= l)\n",
    "HIGH_PASS_FILTER = lambda h: lambda d: (d > h)"
   ]
  },
  {
   "cell_type": "code",
   "execution_count": null,
   "metadata": {},
   "outputs": [],
   "source": [
    "img_F = fftpack.fft2(img)\n",
    "# Aca ya reordeno los valores en complejo de toda la imagen (parte real e imaginaria),\n",
    "# de forma de operar directamente con ellos, sin preocuparme.\n",
    "img_F = foo.fix_norm_plot_regions(img_F)\n",
    "img_ABS = np.abs(img_F)\n",
    "# funcion de corte\n",
    "CUTOFF_FUNC = LOW_PASS_FILTER(50)\n",
    "# aplico el filtro a la transformada\n",
    "img_ABS = freq_filter(img_ABS, CUTOFF_FUNC)\n",
    "# agregego los módulos filtrados con sus correspondientes ángulos\n",
    "img_MOD = foo.assemble_complex(img_ABS, \\\n",
    "                               np.angle(img_F))\n",
    "# anti transformo\n",
    "img_deMOD = fftpack.ifft2(img_MOD)\n",
    "show_img_s([img, foo.log_transform(img_ABS), np.abs(img_deMOD)],\\\n",
    "          [\"original\", \"transformada filtrada\", \"antritransformada filtrada\"])"
   ]
  },
  {
   "cell_type": "markdown",
   "metadata": {},
   "source": [
    "La idea consiste en la siguiente conversión:\n",
    "\n",
    "<p style=\"text-align: center;\">\n",
    "\n",
    "$\\mathcal{F}(img)  \\mathcal{F}(kernel) = \\mathcal{F}(img_{filtered})$\n",
    "\n",
    "$\\mathcal{F}(img)^{-1}  \\mathcal{F}(img)  \\mathcal{F}(kernel) = \\mathcal{F}(img)^{-1}  \\mathcal{F}(img_{filtered})$\n",
    "\n",
    "$\\mathcal{F}(kernel) = \\mathcal{F}(img)^{-1}  \\mathcal{F}(img_{filtered})$\n",
    "\n",
    "$\\mathcal{F}(kernel) \\xrightarrow[]{IDFT} kernel$\n",
    "\n",
    "</p>\n",
    "Pero el problema surge que para capturar una parte representativa del kernel, debo agrander su dimensión. Y esto solo sucede al realizar **lowPassFiltering**; en el caso contrario, no se logra el efecto deseado al aplicar el filtro resultante por convolución."
   ]
  },
  {
   "cell_type": "code",
   "execution_count": null,
   "metadata": {},
   "outputs": [],
   "source": [
    "# en esta operación realizo\n",
    "\"\"\"\n",
    "inversa(TRANSF(imagen original)) . TRANSF(imagen filtrada)\n",
    "reordeno las regiones\n",
    "antiTRANSFORMO\n",
    "tomo muestra del kernel\n",
    "\"\"\"\n",
    "kernel_size = 100\n",
    "KERN_F = foo.fix_norm_plot_regions(np.dot(linalg.inv(img_F),img_MOD))\n",
    "KERN = np.abs(fftpack.ifft2(KERN_F[0:kernel_size,0:kernel_size]))\n",
    "show_img_s([foo.log_transform(np.abs(KERN_F)), KERN, convolve(img, KERN)],\\\n",
    "           [\"transformada del kernel obtenido\", \"antritransformada del kernel\",\\\n",
    "            \"convolucion con kernel obetinido\"])"
   ]
  },
  {
   "cell_type": "code",
   "execution_count": null,
   "metadata": {},
   "outputs": [],
   "source": [
    "filtered_img = np.dot(img_F, foo.fix_norm_plot_regions(KERN_F))\n",
    "# print(filtered_img.shape)\n",
    "show_img_s([foo.log_transform(np.abs(filtered_img)),\\\n",
    "            (np.abs(fftpack.ifft2(filtered_img)))])"
   ]
  },
  {
   "cell_type": "markdown",
   "metadata": {},
   "source": [
    "### Average Filter\n",
    "Actúa como filtro pasa-bajos. El mismo toma la media de una vecindad de $s^2$."
   ]
  },
  {
   "cell_type": "code",
   "execution_count": null,
   "metadata": {
    "collapsed": true
   },
   "outputs": [],
   "source": [
    "LOW_PASS_KERNEL = lambda s: np.ones((s,s))*(1/float(s))"
   ]
  },
  {
   "cell_type": "code",
   "execution_count": null,
   "metadata": {},
   "outputs": [],
   "source": [
    "show_img(convolve(img, LOW_PASS_KERNEL(5)))"
   ]
  },
  {
   "cell_type": "markdown",
   "metadata": {},
   "source": [
    "## Ejercicio 2"
   ]
  },
  {
   "cell_type": "code",
   "execution_count": null,
   "metadata": {
    "collapsed": true
   },
   "outputs": [],
   "source": [
    "def randon_mask(alto, ancho, lower=-5, upper=10):\n",
    "    k = np.zeros((alto, ancho))\n",
    "    for i in range(k.shape[0]):\n",
    "        for j in range(k.shape[1]):\n",
    "            k[i,j] = random.uniform(lower, upper)\n",
    "    return k   "
   ]
  },
  {
   "cell_type": "markdown",
   "metadata": {},
   "source": [
    "La función *randon_mask* toma como parámetros las dimensiones del kernel a aplicar ($alto \\geq 0 \\land ancho \\geq 0$), y los límites de los valores que contendrá el kernel ($lower \\leq k_{i,j} \\leq upper$), los cuales se generan de manera aleatoria.\n",
    "\n",
    "Resulta de interés notat que para kernels pequeños, se obtiene más variedad en el efecto causado por las diferentes máscaras, ya que las muestra de la imágen sobre la que operan es menor, por lo que el peso que tiene cada valor elegido aleatoriamente aumenta. Por otro lado, para kernels de mayor tamaño, la importancia de cada elemento se encuentra más distribuido entre el total."
   ]
  },
  {
   "cell_type": "code",
   "execution_count": null,
   "metadata": {},
   "outputs": [],
   "source": [
    "kernel = randon_mask(3,1)\n",
    "print(\"Se generó un kernel aleatorio: \")\n",
    "print(kernel)\n",
    "show_img_s([img, convolve(img, kernel)],\\\n",
    "           [\"original\", \"kernel aleatorio\"], fig_size = (15,6))"
   ]
  },
  {
   "cell_type": "markdown",
   "metadata": {},
   "source": [
    "## Ejercicio 3"
   ]
  },
  {
   "cell_type": "markdown",
   "metadata": {},
   "source": [
    "### Máscaras para suavizado"
   ]
  },
  {
   "cell_type": "code",
   "execution_count": null,
   "metadata": {
    "collapsed": true
   },
   "outputs": [],
   "source": [
    "def gaussian_kern(dim, sigma):\n",
    "    KERN = np.zeros((dim, dim))\n",
    "    gauss_func = lambda x,y: (1/(2*np.pi*sigma))*np.exp([\\\n",
    "        -(x**2 + y**2)/(2*sigma**2)\\\n",
    "        ])\n",
    "    for i in range(dim):\n",
    "        for j in range(dim):\n",
    "            KERN[i,j] = gauss_func(abs(i-dim/2),abs(j-dim/2))\n",
    "    return KERN\n",
    "# show_img(gaussian_kern(5, 1.5))\n",
    "def mean_kern(dim):\n",
    "    return np.ones((dim,dim))/float(dim**2)"
   ]
  },
  {
   "cell_type": "markdown",
   "metadata": {},
   "source": [
    "En las imagenes siguientes se puede ver una imagen de lena original, una suavizada con un filtro de la media, y una con un filtro guassiano (con una desvío standar de 1,5). Ambos kernel son de 5x5 pixels."
   ]
  },
  {
   "cell_type": "code",
   "execution_count": null,
   "metadata": {},
   "outputs": [],
   "source": [
    "show_img_s([img, convolve(img, mean_kern(5)), convolve(img, gaussian_kern(5,1.5))],\\\n",
    "           [\"original lena\", \"mean filter\", \"guassian filter (SIGMA=1.5)\"])"
   ]
  },
  {
   "cell_type": "markdown",
   "metadata": {},
   "source": [
    "### Unshark Masking\n",
    "Cuando se hace referencia a UM, quiere decirse Unsharp Masking."
   ]
  },
  {
   "cell_type": "code",
   "execution_count": null,
   "metadata": {
    "collapsed": true
   },
   "outputs": [],
   "source": [
    "blurry_img = misc.imread(\"blurry_forest_2.jpg\")[:,:,0]"
   ]
  },
  {
   "cell_type": "code",
   "execution_count": null,
   "metadata": {
    "collapsed": true
   },
   "outputs": [],
   "source": [
    "def unsharp_masking(img, alpha, size = 3):\n",
    "    ID = np.zeros((size,size)); ID[size/2,size/2] = 1\n",
    "    KERN = np.array(ID - mean_kern(size))\n",
    "    return img+alpha*convolve2d(img, KERN, mode=\"same\")\n",
    "#     return img + alpha*convolve2d(img, KERN, mode=\"same\")\n",
    "def naive_unsharp_masking(img, alpha, size=3):\n",
    "    return img + alpha*(img - convolve(img, mean_kern(size)))\n"
   ]
  },
  {
   "cell_type": "code",
   "execution_count": null,
   "metadata": {},
   "outputs": [],
   "source": [
    "# mean_filtered_img = convolve2d(img_2, np.ones((3,3))*(1/float(9)), mode=\"same\")\n",
    "show_img_s([blurry_img, unsharp_masking(blurry_img, .7, size=5), unsharp_masking(blurry_img, 1, size=5), unsharp_masking(blurry_img, 2, size=5)],\\\n",
    "           [\"original\", \"UM ALPHA = 0,7\",\"UM ALPHA = 1\", \"UM ALPHA = 2\" ])"
   ]
  },
  {
   "cell_type": "markdown",
   "metadata": {},
   "source": [
    "## Ejercicio 4"
   ]
  },
  {
   "cell_type": "markdown",
   "metadata": {},
   "source": [
    "### Implementación de varios tipos de ruido\n",
    "En todas las funciones de ruido, se asume que la imagen pasadas como parámetros poseen un tipo de datos **uint8**."
   ]
  },
  {
   "cell_type": "markdown",
   "metadata": {},
   "source": [
    "### Salt & Pepper noise\n",
    "El parámetro que toma es la probailidad que en un pixel se produzca ruido impuslivo. La misma se distribuye de la siguiente forma:\n",
    "\n",
    "Si es $x \\sim U(0,1)$, luego si $x \\leq p/2$, el ruido aplicado es pepper; si $x \\geq 1-p/2$, se aplica salt; caso contrario, no hay ruido."
   ]
  },
  {
   "cell_type": "code",
   "execution_count": null,
   "metadata": {
    "collapsed": true
   },
   "outputs": [],
   "source": [
    "# P&S noise también es conocido como ruido impulsivo\n",
    "def pep_salt_noise(img, prob):\n",
    "    IMG = np.copy(img)\n",
    "    p_p = prob/2; p_s=1-prob/2\n",
    "    for i in range(len(IMG)):\n",
    "        for j in range(len(IMG[0])):\n",
    "            lottery = np.random.uniform()\n",
    "            if lottery < p_p:\n",
    "                # pepper\n",
    "                IMG[i,j] = 0\n",
    "            elif p_s < lottery:\n",
    "                #salt\n",
    "                IMG[i,j] = 255                \n",
    "            else:\n",
    "                #none\n",
    "                continue    \n",
    "    return IMG"
   ]
  },
  {
   "cell_type": "code",
   "execution_count": null,
   "metadata": {},
   "outputs": [],
   "source": [
    "show_img_s([pep_salt_noise(img, .1), pep_salt_noise(img, .05), pep_salt_noise(img, .025),\\\n",
    "            pep_salt_noise(img, .01)], [\"p = 0,1\", \"p = 0,05\", \"p = 0,025\", \"p = 0,01\"])"
   ]
  },
  {
   "cell_type": "markdown",
   "metadata": {},
   "source": [
    "### Ruido Gaussiano aditivo"
   ]
  },
  {
   "cell_type": "code",
   "execution_count": null,
   "metadata": {
    "collapsed": true
   },
   "outputs": [],
   "source": [
    "def additive_gaussian_noise(img, mean, sd):\n",
    "    IMG = np.copy(img)\n",
    "    for i in range(len(IMG)):\n",
    "        for j in range(len(IMG[0])):\n",
    "            IMG[i,j] += int(random.gauss(mean, sd))\n",
    "    return IMG"
   ]
  },
  {
   "cell_type": "code",
   "execution_count": null,
   "metadata": {},
   "outputs": [],
   "source": [
    "sigma_range = [1,10,25,50]\n",
    "contamined_imgs = [additive_gaussian_noise(img, 0,sigma) for sigma in sigma_range]\n",
    "contamined_imgs_labels = [\"sigma = \" + str(sigma) for sigma in sigma_range]\n",
    "print(\"------------ IMAGENES CONTAMINADAS ------------\")\n",
    "show_img_s(contamined_imgs, contamined_imgs_labels)\n",
    "print(\"------------ FILTRO MEDIA ------------\")\n",
    "show_img_s([convolve(i, mean_kern(3)) for i in contamined_imgs])"
   ]
  },
  {
   "cell_type": "code",
   "execution_count": null,
   "metadata": {},
   "outputs": [],
   "source": [
    "print(\"------------ UNSHARP_MASKSING ------------\")\n",
    "show_img_s([unsharp_masking(i, 1) for i in contamined_imgs])"
   ]
  },
  {
   "cell_type": "markdown",
   "metadata": {},
   "source": [
    "### Ruido multiplicativo de Rayleigh"
   ]
  },
  {
   "cell_type": "markdown",
   "metadata": {},
   "source": [
    "Én la función implementada, se tomo como parámetros las media y la variancia de la distribución del ruido (Rayleigh según diapositivas y González), y de ahí se calcula sus correspondiente parámetros. Este es descripto por la función **multiplicative_rayleigh_noise**.\n",
    "\n",
    "Por otro lado, la distribución de Rayleigh que depende de un parámetro es diferente, ya que su distribución es la siguiente:\n",
    "\n",
    "$f(x, \\xi) = \\frac{x}{\\xi^2}e^{-x^2/(2\\xi^2)}$\n",
    "\n",
    "Siendo generada por:\n",
    "\n",
    "$X = \\xi \\sqrt{-2 \\, ln \\, u)}$ con $u \\sim U(0,1)$\n",
    "\n",
    "Este último será descripto por **multiplicative_rayleigh_2**."
   ]
  },
  {
   "cell_type": "markdown",
   "metadata": {},
   "source": [
    "#### Rayleigh 1"
   ]
  },
  {
   "cell_type": "code",
   "execution_count": null,
   "metadata": {
    "collapsed": true
   },
   "outputs": [],
   "source": [
    "def multiplicative_rayleigh_noise(img, mean, var, dist_vals = None):\n",
    "    b = (4 * var)/(4-np.pi)\n",
    "    a = mean - np.sqrt(np.pi*b/4)\n",
    "    print(\"a = %f , b = %f\" % (a, b))\n",
    "    IMG = np.copy(img)\n",
    "    dist = lambda u: a + np.sqrt(-b*np.log(1-u))\n",
    "    for i in range(len(IMG)):\n",
    "        for j in range(len(IMG[0])):\n",
    "            val = dist(random.uniform(0,1))\n",
    "            if dist_vals is not None: dist_vals.append(val)\n",
    "            IMG[i,j] = int(float(IMG[i,j]) * val)\n",
    "    return IMG"
   ]
  },
  {
   "cell_type": "code",
   "execution_count": null,
   "metadata": {},
   "outputs": [],
   "source": [
    "dist_rayleigh = []\n",
    "noised_img = multiplicative_rayleigh_noise(img, 1, .02, dist_rayleigh)\n",
    "plt.hist(dist_rayleigh, bins=100)\n",
    "show_img_s([img ,noised_img])"
   ]
  },
  {
   "cell_type": "markdown",
   "metadata": {},
   "source": [
    "#### Rayleigh 2"
   ]
  },
  {
   "cell_type": "code",
   "execution_count": null,
   "metadata": {
    "collapsed": true
   },
   "outputs": [],
   "source": [
    "def multiplicative_rayleigh_2(img, xi):\n",
    "    IMG = np.copy(img)\n",
    "    dist = lambda u: xi*np.sqrt(-2*np.log(u))\n",
    "    for i in range(len(IMG)):\n",
    "        for j in range(len(IMG[0])):\n",
    "            val = dist(random.uniform(0,1))\n",
    "            IMG[i,j] = int(float(IMG[i,j]) * val)\n",
    "    return IMG"
   ]
  },
  {
   "cell_type": "code",
   "execution_count": null,
   "metadata": {},
   "outputs": [],
   "source": [
    "xi_range = [.1,.5, 1, 2]\n",
    "contamined_imgs = [multiplicative_rayleigh_2(img,x) for x in xi_range]\n",
    "contamined_imgs_labels = [\"XI = \" + str(x) for x in xi_range]\n",
    "print(\"------------ IMAGENES CONTAMINADAS ------------\")\n",
    "show_img_s(contamined_imgs, contamined_imgs_labels)\n",
    "print(\"------------ FILTRO MEDIA ------------\")\n",
    "show_img_s([convolve(i, mean_kern(3)) for i in contamined_imgs])"
   ]
  },
  {
   "cell_type": "code",
   "execution_count": null,
   "metadata": {},
   "outputs": [],
   "source": [
    "print(\"------------ UNSHARP_MASKSING ------------\")\n",
    "show_img_s([unsharp_masking(i, .7) for i in contamined_imgs])"
   ]
  },
  {
   "cell_type": "markdown",
   "metadata": {},
   "source": [
    "## Ejercicio 5"
   ]
  },
  {
   "cell_type": "markdown",
   "metadata": {},
   "source": [
    "Notar que no se lidió con los borden en la implementación del filtro. La decisión fue tomada debido que al hacerlo, se debería usar una estimación de los datos que faltan a considerar ahí, o reducir la dimensión de la ventana que se toma en cuenta en los casos borde. De hacerlo, si dicha ventana tuviera alta concentración de *outliers*, se deterioraría la calidad final."
   ]
  },
  {
   "cell_type": "code",
   "execution_count": null,
   "metadata": {
    "collapsed": true
   },
   "outputs": [],
   "source": [
    "def median_filter(I, dim):\n",
    "    m = len(I); n = len(I[0])\n",
    "    out = np.zeros((m,n))\n",
    "    for i in range(0+dim//2, m-dim//2):\n",
    "        for j in range(0+dim//2, n-dim//2):\n",
    "            t = I[i-dim//2:i+dim//2+1, j-dim//2:j+dim//2+1]\n",
    "            out[i,j] = np.median(t)\n",
    "    return out"
   ]
  },
  {
   "cell_type": "code",
   "execution_count": null,
   "metadata": {},
   "outputs": [],
   "source": [
    "plt.figure(figsize=(18,10)); plt.axis('off')\n",
    "plt.imshow(median_filter(img, 5), cmap='gray')\n",
    "plt.show()"
   ]
  },
  {
   "cell_type": "markdown",
   "metadata": {},
   "source": [
    "## Ejercicio 6"
   ]
  },
  {
   "cell_type": "code",
   "execution_count": null,
   "metadata": {},
   "outputs": [],
   "source": [
    "p_range = [.01, .1, .2]\n",
    "contamined_imgs = [pep_salt_noise(img,p) for p in p_range]\n",
    "contamined_imgs_labels = [\"p = \" + str(p) for p in p_range]\n",
    "print(\"------------ IMAGENES CONTAMINADAS ------------\")\n",
    "show_img_s(contamined_imgs, contamined_imgs_labels)\n",
    "print(\"------------ FILTRO MEDIANA ------------\")\n",
    "show_img_s([median_filter(i, 3) for i in contamined_imgs])"
   ]
  },
  {
   "cell_type": "markdown",
   "metadata": {},
   "source": [
    "## Ejercicio 7"
   ]
  },
  {
   "cell_type": "code",
   "execution_count": null,
   "metadata": {
    "collapsed": true
   },
   "outputs": [],
   "source": [
    "img = misc.imread('lena.png')"
   ]
  },
  {
   "cell_type": "markdown",
   "metadata": {},
   "source": [
    "#### Roberts"
   ]
  },
  {
   "cell_type": "code",
   "execution_count": null,
   "metadata": {},
   "outputs": [],
   "source": [
    "# Prewitt\n",
    "Gx = [[-1,0,1],[-1,0,1],[-1,0,1]]\n",
    "Gy = [[1,1,1],[0,0,0],[-1,-1,-1]]\n",
    "img_x = convolve2d(img,Gx,mode='same')\n",
    "img_y = convolve2d(img,Gy,mode='same')\n",
    "img_mod = np.sqrt(np.power(img_x,2)+np.power(img_y,2))\n",
    "show_img_s([img_x,img_y,img_mod])"
   ]
  },
  {
   "cell_type": "markdown",
   "metadata": {},
   "source": [
    "#### Prewitt"
   ]
  },
  {
   "cell_type": "code",
   "execution_count": null,
   "metadata": {},
   "outputs": [],
   "source": [
    "# Prewitt\n",
    "Gx = [[-1,0,1],[-1,0,1],[-1,0,1]]\n",
    "Gy = [[1,1,1],[0,0,0],[-1,-1,-1]]\n",
    "img_x = convolve2d(img,Gx,mode='same')\n",
    "img_y = convolve2d(img,Gy,mode='same')\n",
    "img_mod = np.sqrt(np.power(img_x,2)+np.power(img_y,2))\n",
    "show_img_s([img_x,img_y,img_mod])"
   ]
  },
  {
   "cell_type": "markdown",
   "metadata": {},
   "source": [
    "#### Sobel"
   ]
  },
  {
   "cell_type": "code",
   "execution_count": null,
   "metadata": {},
   "outputs": [],
   "source": [
    "# Sobel\n",
    "Gx = [[-1,0,1],[-2,0,2],[-1,0,1]]\n",
    "Gy = [[1,2,1],[0,0,0],[-1,-2,-1]]\n",
    "img_x = convolve2d(img,Gx,mode='same')\n",
    "img_y = convolve2d(img,Gy,mode='same')\n",
    "img_mod = np.sqrt(np.power(img_x,2)+np.power(img_y,2))\n",
    "show_img_s([img_x,img_y,img_mod])"
   ]
  }
 ],
 "metadata": {
  "git": {
   "suppress_outputs": true
  },
  "kernelspec": {
   "display_name": "Python 2",
   "language": "python",
   "name": "python2"
  },
  "language_info": {
   "codemirror_mode": {
    "name": "ipython",
    "version": 2
   },
   "file_extension": ".py",
   "mimetype": "text/x-python",
   "name": "python",
   "nbconvert_exporter": "python",
   "pygments_lexer": "ipython2",
   "version": "2.7.13"
  },
  "toc": {
   "nav_menu": {},
   "number_sections": false,
   "sideBar": false,
   "skip_h1_title": false,
   "toc_cell": false,
   "toc_position": {
    "height": "307px",
    "left": "1718.38px",
    "right": "20px",
    "top": "120px",
    "width": "172px"
   },
   "toc_section_display": "block",
   "toc_window_display": true
  }
 },
 "nbformat": 4,
 "nbformat_minor": 2
}
