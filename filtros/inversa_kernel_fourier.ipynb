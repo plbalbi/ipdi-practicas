{
 "cells": [
  {
   "cell_type": "code",
   "execution_count": null,
   "metadata": {
    "collapsed": true
   },
   "outputs": [],
   "source": [
    "import sys\n",
    "sys.path.insert(0,'../libs')\n",
    "import fourier as foo\n",
    "import ecualizacion as equ\n",
    "from matplotlib import pyplot as plt\n",
    "import numpy as np\n",
    "from scipy import fftpack\n",
    "from scipy import misc\n",
    "# import seaborn as sns\n",
    "# sns.despine()\n",
    "from numpy import linalg\n",
    "from scipy.signal import convolve2d\n",
    "import random"
   ]
  },
  {
   "cell_type": "code",
   "execution_count": null,
   "metadata": {
    "collapsed": true
   },
   "outputs": [],
   "source": [
    "def convolve(I, K):\n",
    "    return convolve2d(I,K,mode=\"same\")"
   ]
  },
  {
   "cell_type": "code",
   "execution_count": null,
   "metadata": {
    "collapsed": true
   },
   "outputs": [],
   "source": [
    "def show_img(IMG, fig_size=(18,10)):\n",
    "    plt.figure(figsize=fig_size); plt.axis('off')\n",
    "    plt.imshow(IMG ,cmap='gray')\n",
    "    plt.show()\n",
    "    \n",
    "def show_img_s(IMG, titles=None, fig_size = (18,10)):\n",
    "    img_qty = len(IMG)\n",
    "    plt.figure(figsize=fig_size); \n",
    "    for i in range(img_qty):\n",
    "        plt.subplot(1,img_qty, i+1)\n",
    "        if titles != None:\n",
    "            plt.title(titles[i])\n",
    "        plt.imshow(IMG[i] ,cmap='gray'); plt.axis('off')\n",
    "    plt.tight_layout()\n",
    "    plt.show()"
   ]
  },
  {
   "cell_type": "markdown",
   "metadata": {},
   "source": [
    "## Obtención kernel pasa alto por inversa"
   ]
  },
  {
   "cell_type": "markdown",
   "metadata": {},
   "source": [
    "**freq_filter** toma como parámetros la imágen a filtrar, y una función de decisión. La misma, en pos de la *distancia* de una cierta amplitud para una frecuencia f al centro del espacio, decide si será removida o no."
   ]
  },
  {
   "cell_type": "code",
   "execution_count": null,
   "metadata": {
    "collapsed": true
   },
   "outputs": [],
   "source": [
    "def freq_filter(img, CUTOFF_FUN):\n",
    "    filtered_img = np.copy(img)\n",
    "    m = len(img); n = len(img[0])\n",
    "    distance = lambda i,j: np.sqrt(abs(i-m/2)**2 + abs(j-n/2)**2)\n",
    "    for i in range(m):\n",
    "        for j in range(n):\n",
    "            if not CUTOFF_FUN(distance(i,j)):\n",
    "                filtered_img[i][j] = 0\n",
    "    return filtered_img"
   ]
  },
  {
   "cell_type": "code",
   "execution_count": null,
   "metadata": {
    "collapsed": true
   },
   "outputs": [],
   "source": [
    "img = misc.imread('lena.png')"
   ]
  },
  {
   "cell_type": "markdown",
   "metadata": {},
   "source": [
    "**Nota:** Si en algun momento se reodernana los cuadrantes de la imagen en el dominio de las frecuencias, antes de ser convertido por la IFFT, los mismos deben tener el mismo orden; ya sea el original, o con el el (0,0) de las frecuencias centrado en la imagen. En el *code-block* de abajo se puede ver ejemplos de ciertos filtros. En cada uno, **l** y **h** hacen referencia a los valores de corte inferior y superior."
   ]
  },
  {
   "cell_type": "code",
   "execution_count": null,
   "metadata": {
    "collapsed": true
   },
   "outputs": [],
   "source": [
    "BAND_PASS_FILTER = lambda l,h: lambda d: (d <= l) or (d> h)\n",
    "LOW_PASS_FILTER = lambda l: lambda d: (d <= l)\n",
    "HIGH_PASS_FILTER = lambda h: lambda d: (d > h)"
   ]
  },
  {
   "cell_type": "code",
   "execution_count": null,
   "metadata": {},
   "outputs": [],
   "source": [
    "img_F = fftpack.fft2(img)\n",
    "# Aca ya reordeno los valores en complejo de toda la imagen (parte real e imaginaria),\n",
    "# de forma de operar directamente con ellos, sin preocuparme.\n",
    "img_F = foo.fix_norm_plot_regions(img_F)\n",
    "img_ABS = np.abs(img_F)\n",
    "# funcion de corte\n",
    "CUTOFF_FUNC = HIGH_PASS_FILTER(50)\n",
    "# aplico el filtro a la transformada\n",
    "img_ABS = freq_filter(img_ABS, CUTOFF_FUNC)\n",
    "# agregego los módulos filtrados con sus correspondientes ángulos\n",
    "img_MOD = foo.assemble_complex(img_ABS, \\\n",
    "                               np.angle(img_F))\n",
    "# anti transformo\n",
    "img_deMOD = fftpack.ifft2(img_MOD)\n",
    "show_img_s([img, foo.log_transform(img_ABS), np.abs(img_deMOD)],\\\n",
    "          [\"original\", \"transformada filtrada\", \"antritransformada filtrada\"])"
   ]
  },
  {
   "cell_type": "markdown",
   "metadata": {},
   "source": [
    "La idea consiste en la siguiente conversión:\n",
    "\n",
    "<p style=\"text-align: center;\">\n",
    "\n",
    "$\\mathcal{F}(img)  \\mathcal{F}(kernel) = \\mathcal{F}(img_{filtered})$\n",
    "\n",
    "$\\mathcal{F}(img)^{-1}  \\mathcal{F}(img)  \\mathcal{F}(kernel) = \\mathcal{F}(img)^{-1}  \\mathcal{F}(img_{filtered})$\n",
    "\n",
    "$\\mathcal{F}(kernel) = \\mathcal{F}(img)^{-1}  \\mathcal{F}(img_{filtered})$\n",
    "\n",
    "$\\mathcal{F}(kernel) \\xrightarrow[]{IDFT} kernel$\n",
    "\n",
    "</p>\n",
    "Pero el problema surge que para capturar una parte representativa del kernel, debo agrander su dimensión. Y esto solo sucede al realizar **lowPassFiltering**; en el caso contrario, no se logra el efecto deseado al aplicar el filtro resultante por convolución."
   ]
  },
  {
   "cell_type": "code",
   "execution_count": null,
   "metadata": {},
   "outputs": [],
   "source": [
    "# en esta operación realizo\n",
    "\"\"\"\n",
    "inversa(TRANSF(imagen original)) . TRANSF(imagen filtrada)\n",
    "reordeno las regiones\n",
    "antiTRANSFORMO\n",
    "tomo muestra del kernel\n",
    "\"\"\"\n",
    "KERN_F = foo.fix_norm_plot_regions(np.dot(linalg.inv(img_F),img_MOD))\n",
    "KERN = np.abs(fftpack.ifft2(KERN_F))\n",
    "# NOTA: La antitransformada tiene el histrograma con un log-transform para hacer más visible los valores bajos\n",
    "show_img_s([foo.log_transform(np.abs(KERN_F)), foo.log_transform(KERN)],\\\n",
    "           [\"transformada del kernel obtenido\", \"antritransformada del kernel\"])"
   ]
  },
  {
   "cell_type": "code",
   "execution_count": null,
   "metadata": {},
   "outputs": [],
   "source": [
    "kernel_size_s = [10,20,30,50,100]\n",
    "KERN_s = [KERN[0:i,0:i] for i in kernel_size_s]\n",
    "KERN_s_labels = [\"kernel size = \" + str(i) for i in kernel_size_s]\n",
    "CONV_s_labels = [\"lena conv con k_size = \" + str(i) for i in kernel_size_s]\n",
    "\n",
    "show_img_s([foo.log_transform(k) for k in KERN_s], KERN_s_labels)\n",
    "show_img_s([convolve(img, k) for k in KERN_s], CONV_s_labels)"
   ]
  },
  {
   "cell_type": "markdown",
   "metadata": {},
   "source": [
    "Pruba de realizar el producto $\\mathcal{F}(img)  \\mathcal{F}(kernel)$ para ver si da como resultado $\\mathcal{F}(img_{filtered})$ y $img_{filtered}$."
   ]
  },
  {
   "cell_type": "code",
   "execution_count": null,
   "metadata": {},
   "outputs": [],
   "source": [
    "filtered_img = np.dot(img_F, foo.fix_norm_plot_regions(KERN_F))\n",
    "# print(filtered_img.shape)\n",
    "show_img_s([foo.log_transform(np.abs(filtered_img)),\\\n",
    "            (np.abs(fftpack.ifft2(filtered_img)))],\\\n",
    "          [\"Transformada del producto\", \"antitransformada del producto\"])"
   ]
  }
 ],
 "metadata": {
  "git": {
   "suppress_outputs": true
  },
  "kernelspec": {
   "display_name": "Python 2",
   "language": "python",
   "name": "python2"
  },
  "language_info": {
   "codemirror_mode": {
    "name": "ipython",
    "version": 2
   },
   "file_extension": ".py",
   "mimetype": "text/x-python",
   "name": "python",
   "nbconvert_exporter": "python",
   "pygments_lexer": "ipython2",
   "version": "2.7.13"
  },
  "toc": {
   "nav_menu": {},
   "number_sections": false,
   "sideBar": false,
   "skip_h1_title": false,
   "toc_cell": false,
   "toc_position": {
    "height": "307px",
    "left": "1718.38px",
    "right": "20px",
    "top": "120px",
    "width": "172px"
   },
   "toc_section_display": "block",
   "toc_window_display": true
  }
 },
 "nbformat": 4,
 "nbformat_minor": 2
}
