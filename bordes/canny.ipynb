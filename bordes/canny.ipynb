{
 "cells": [
  {
   "cell_type": "code",
   "execution_count": null,
   "metadata": {},
   "outputs": [],
   "source": [
    "%load_ext autoreload\n",
    "%autoreload 1"
   ]
  },
  {
   "cell_type": "code",
   "execution_count": null,
   "metadata": {},
   "outputs": [],
   "source": [
    "import numpy as np\n",
    "from scipy import misc\n",
    "import sys\n",
    "import math\n",
    "sys.path.insert(0,'../libs')\n",
    "import ruidos as noise\n",
    "from scipy.signal import convolve2d\n",
    "%aimport edge_detectors\n",
    "# import edge_detectors as ed\n",
    "from image_helpers import *"
   ]
  },
  {
   "cell_type": "code",
   "execution_count": null,
   "metadata": {},
   "outputs": [],
   "source": [
    "img = misc.imread(\"lena.png\")\n",
    "print(img.shape)"
   ]
  },
  {
   "cell_type": "code",
   "execution_count": null,
   "metadata": {},
   "outputs": [],
   "source": [
    "# Filtro de Gradiente (con Sobel)\n",
    "Sx = [[-1,0,1],[-2,0,2],[-1,0,1]]\n",
    "Sy = [[1,2,1],[0,0,0],[-1,-2,-1]]\n",
    "\n",
    "# Filtro Gaussiano\n",
    "kernel_gauss = np.array([\\\n",
    "          [1,4,7,4,1],\\\n",
    "          [4,16,26,16,4],\\\n",
    "          [7,26,41,26,7],\\\n",
    "          [1,4,7,4,1],\\\n",
    "          [4,16,26,16,4]])*1/273\n",
    "\n",
    "# Gradiente del kernel Gaussiano\n",
    "kernel_gauss_dx = convolve2d(kernel_gauss,Sx)\n",
    "kernel_gauss_dy = convolve2d(kernel_gauss,Sy)\n",
    "\n",
    "\n",
    "def rec2pol(img_x,img_y):\n",
    "    abs = np.empty(img_x.shape)\n",
    "    ang = np.empty(img_x.shape)\n",
    "    for i in range(len(img_x)):\n",
    "        for j in range(len(img_x[0])):\n",
    "            abs[i][j] = np.sqrt(img_x[i][j]**2+img_y[i][j]**2)\n",
    "            ang[i][j] = np.arctan(img_y[i][j]/(img_x[i][j]+0.000000001)) + math.pi/2\n",
    "\n",
    "    return abs, ang\n",
    "\n",
    "img_x = convolve2d(img,kernel_gauss_dx)\n",
    "img_y = convolve2d(img,kernel_gauss_dy)\n",
    "\n",
    "J_m, J_o = rec2pol(img_x,img_y)\n",
    "\n",
    "\n",
    "show_img_s([img,J_m,J_o],['original','Jm','Jo'])"
   ]
  },
  {
   "cell_type": "code",
   "execution_count": null,
   "metadata": {
    "scrolled": false
   },
   "outputs": [],
   "source": [
    "# Busco la dirección que mejor aproxima\n",
    "\n",
    "def supresion_no_max(J_o,J_m):\n",
    "    J_n = np.empty(J_m.shape)\n",
    "    for i in range(1,len(J_o)-1):\n",
    "        for j in range(1,len(J_o)-1):\n",
    "            # Busco la direccion dk que mejor aproxima\n",
    "            min = math.inf\n",
    "            dk = 0\n",
    "            for val in [0,math.pi/4,math.pi/2,math.pi*3/4,math.pi]:\n",
    "                if abs(J_o[i][j]-val) < min:\n",
    "                    min = abs(J_o[i][j]-val)\n",
    "                    dk = val\n",
    "                    \n",
    "            # Busco sus vecinos en esa dirección\n",
    "            vecino1 = 0\n",
    "            vecino2 = 0\n",
    "            if dk == 0 or dk == math.pi:\n",
    "                vecino1 = J_m[i][j-1]\n",
    "                vecino2 = J_m[i][j+1]\n",
    "            elif dk == math.pi/4:\n",
    "                vecino1 = J_m[i-1][j-1]\n",
    "                vecino2 = J_m[i+1][j+1]                \n",
    "            elif dk == math.pi/2:\n",
    "                vecino1 = J_m[i-1][j]\n",
    "                vecino2 = J_m[i+1][j]                \n",
    "            elif dk == math.pi*3/4:\n",
    "                vecino1 = J_m[i-1][j+1]\n",
    "                vecino2 = J_m[i+1][j-1]  \n",
    "                \n",
    "            # Lo suprimo de ser necesario\n",
    "            if J_m[i][j]  < vecino1 or J_m[i][j] < vecino2:\n",
    "                J_n[i][j] = 0\n",
    "            else:\n",
    "                J_n[i][j] = J_m[i][j]\n",
    "    return J_n\n",
    "\n",
    "J_n = supresion_no_max(J_o,J_m)\n",
    "show_img(J_n)\n"
   ]
  },
  {
   "cell_type": "code",
   "execution_count": null,
   "metadata": {},
   "outputs": [],
   "source": [
    "# Supresión de no máximos\n"
   ]
  }
 ],
 "metadata": {
  "kernelspec": {
   "display_name": "Python 3",
   "language": "python",
   "name": "python3"
  },
  "language_info": {
   "codemirror_mode": {
    "name": "ipython",
    "version": 3
   },
   "file_extension": ".py",
   "mimetype": "text/x-python",
   "name": "python",
   "nbconvert_exporter": "python",
   "pygments_lexer": "ipython3",
   "version": "3.5.2"
  },
  "toc": {
   "nav_menu": {},
   "number_sections": false,
   "sideBar": false,
   "skip_h1_title": false,
   "toc_cell": false,
   "toc_position": {
    "height": "410px",
    "left": "1680px",
    "right": "20px",
    "top": "172.993px",
    "width": "262px"
   },
   "toc_section_display": "block",
   "toc_window_display": true
  }
 },
 "nbformat": 4,
 "nbformat_minor": 2
}
