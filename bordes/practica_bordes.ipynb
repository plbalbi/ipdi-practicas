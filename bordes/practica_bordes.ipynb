{
 "cells": [
  {
   "cell_type": "code",
   "execution_count": null,
   "metadata": {
    "collapsed": true
   },
   "outputs": [],
   "source": [
    "%load_ext autoreload\n",
    "%autoreload 1"
   ]
  },
  {
   "cell_type": "code",
   "execution_count": null,
   "metadata": {
    "collapsed": true
   },
   "outputs": [],
   "source": [
    "import numpy as np\n",
    "from scipy import misc\n",
    "import sys\n",
    "sys.path.insert(0,'../libs')\n",
    "import ruidos as noise\n",
    "from scipy.signal import convolve2d\n",
    "%aimport edge_detectors\n",
    "# import edge_detectors as ed\n",
    "from image_helpers import *"
   ]
  },
  {
   "cell_type": "markdown",
   "metadata": {},
   "source": [
    "# Pŕactica *Detección de bordes*"
   ]
  },
  {
   "cell_type": "markdown",
   "metadata": {},
   "source": [
    "## Ejercicio 1 "
   ]
  },
  {
   "cell_type": "code",
   "execution_count": null,
   "metadata": {},
   "outputs": [],
   "source": [
    "img = misc.imread(\"lena.png\")\n",
    "print(img.shape)"
   ]
  },
  {
   "cell_type": "code",
   "execution_count": null,
   "metadata": {},
   "outputs": [],
   "source": [
    "lambda_s = [10,20, 30,50]\n",
    "xi_s = [.1,.2,.4, 1]\n",
    "gaussian_contaminated_lenas = [noise.add_gaussian_noise(img, 0, l) for l in lambda_s]\n",
    "rayleigh_contminated_lenas = [noise.mult_rayleigh_noise(img, x) for x in xi_s]\n",
    "\n",
    "print(\"Lenas contaminadas con ruido Gaussiano\")\n",
    "show_img_s(gaussian_contaminated_lenas, [\"lambda = \" + str(l) for l in lambda_s])\n",
    "print(\"Lenas contaminadas con ruido de Rayleigh\")\n",
    "show_img_s(rayleigh_contminated_lenas, [\"xi = \" + str(x) for x in xi_s])"
   ]
  },
  {
   "cell_type": "markdown",
   "metadata": {},
   "source": [
    "## Ejercicio 2"
   ]
  },
  {
   "cell_type": "markdown",
   "metadata": {},
   "source": [
    "### Método del Laplaciano"
   ]
  },
  {
   "cell_type": "code",
   "execution_count": null,
   "metadata": {},
   "outputs": [],
   "source": [
    "print(\"laplaciano ED + lena original\")\n",
    "show_img_s([edge_detectors.laplacian(img)],[\"laplaciano a lena original\"])\n",
    "print(\"laplaciano ED + lena's contaminadas con ruido Gaussiano aditivo\")\n",
    "show_img_s([edge_detectors.laplacian(i) for i in gaussian_contaminated_lenas])\n",
    "print(\"laplaciano ED + lena's contaminadas con ruido de Rayleigh multiplicativo\")\n",
    "show_img_s([edge_detectors.laplacian(i) for i in rayleigh_contminated_lenas])"
   ]
  },
  {
   "cell_type": "markdown",
   "metadata": {},
   "source": [
    "### Método del Laplaciano con evaluación local de varianza"
   ]
  },
  {
   "cell_type": "markdown",
   "metadata": {},
   "source": [
    "Prueba del **LLV**(Laplacian edge detector with Local Variance threshold) sin suavizar la imagen antes de calcular el laplaciano."
   ]
  },
  {
   "cell_type": "code",
   "execution_count": null,
   "metadata": {},
   "outputs": [],
   "source": [
    "th_range = [45,100,150,200]\n",
    "show_img_s([edge_detectors.LLV(img, th) for th in th_range], [\"TH = \" + str(th) for th in th_range])"
   ]
  },
  {
   "cell_type": "code",
   "execution_count": null,
   "metadata": {},
   "outputs": [],
   "source": [
    "show_img_s([edge_detectors.LLV(img, th, _smooth_pre_laplacian=True) for th in th_range], [\"TH = \" + str(th) for th in th_range])"
   ]
  },
  {
   "cell_type": "code",
   "execution_count": null,
   "metadata": {},
   "outputs": [],
   "source": [
    "SHARPEN_KERNEL = [[0,-1/float(4),0],[-1/float(4),2,-1/float(4)],[0,-1/float(4),0]]\n",
    "perro_koala = misc.imread(\"perro_koala.jpg\")[:,:,0] # me quedo con el canal rojo\n",
    "# perro_koala = convolve2d(perro_koala, SHARPEN_KERNEL, mode=\"same\")\n",
    "show_img(perro_koala)\n",
    "show_img_s([edge_detectors.LLV(perro_koala, th) for th in th_range], [\"TH = \" + str(th) for th in th_range])"
   ]
  },
  {
   "cell_type": "markdown",
   "metadata": {},
   "source": [
    "### **LoG**: *Laplacian of Gaussian* "
   ]
  },
  {
   "cell_type": "code",
   "execution_count": null,
   "metadata": {
    "collapsed": true
   },
   "outputs": [],
   "source": [
    "img_test = misc.imread('test.gif')[:,:,0]\n",
    "img_test_2 = misc.imread('test_2.png')"
   ]
  },
  {
   "cell_type": "code",
   "execution_count": null,
   "metadata": {
    "collapsed": true
   },
   "outputs": [],
   "source": [
    "sigma_range = [.5,1,2,4]\n",
    "kern_size = 20"
   ]
  },
  {
   "cell_type": "markdown",
   "metadata": {},
   "source": [
    "#### LoG kernel's"
   ]
  },
  {
   "cell_type": "code",
   "execution_count": null,
   "metadata": {},
   "outputs": [],
   "source": [
    "show_img_s([edge_detectors._LOG_kern(kern_size, s) for s in sigma_range],\\\n",
    "           [\"sigma = \" + str(s) for s in sigma_range])"
   ]
  },
  {
   "cell_type": "markdown",
   "metadata": {},
   "source": [
    "### Gaussian kernel's"
   ]
  },
  {
   "cell_type": "code",
   "execution_count": null,
   "metadata": {},
   "outputs": [],
   "source": [
    "show_img_s([edge_detectors._gaussian_kern(kern_size, s) for s in sigma_range],\\\n",
    "           [\"sigma = \" + str(s) for s in sigma_range])"
   ]
  },
  {
   "cell_type": "code",
   "execution_count": null,
   "metadata": {},
   "outputs": [],
   "source": [
    "show_img_s([edge_detectors.LOG(img, sig, _kernel_size=kern_size) for sig in sigma_range],\\\n",
    "           [\"SIGMA = \" + str(sig) for sig in sigma_range])\n",
    "show_img_s([edge_detectors.LOG(img_test, sig, _kernel_size=kern_size) for sig in sigma_range],\\\n",
    "           [\"SIGMA = \" + str(sig) for sig in sigma_range])\n",
    "show_img_s([edge_detectors.LOG(img_test_2, sig, _kernel_size=kern_size) for sig in sigma_range],\\\n",
    "           [\"SIGMA = \" + str(sig) for sig in sigma_range])"
   ]
  },
  {
   "cell_type": "markdown",
   "metadata": {},
   "source": [
    "## Ejercicio 3"
   ]
  },
  {
   "cell_type": "code",
   "execution_count": null,
   "metadata": {},
   "outputs": [],
   "source": [
    "show_img_s( [edge_detectors.kirsch_compass(I) for I in [img, img_test, img_test_2]],\\\n",
    "          [\"lena\", \"test 1\", \"test 2\"])"
   ]
  },
  {
   "cell_type": "markdown",
   "metadata": {},
   "source": [
    "Resulta que en imagenes sin ruido, la obtención de bordes mediante el operador de **Kirsch** funciona mucho mejor. Posiblemente debido a que los métodos que basan su funcionamiento en la segunda derivada suelen ser más sensibles a ruido. Por otro lado, la mejora se ve influenciada debido a que se todo, para cada pixel de la imagen, el *gradiente* (aunque no lo sea exactamente) máximo entre 8 orientaciones diferentes.\n",
    "\n",
    "A pesar de tener mejores resultados en imagenes sin ruido, tiene una performance aceptable para ruido Gaussiano. Los resultados son mejorables mediante un suavizado, y una umbralización de la imagen resultante.\n",
    "\n",
    "Por otro lado, el ruido de Rayleigh, posiblemente debido a la drasticidad que le da el hecho que sea multiplicativo en este caso, hace que los resultados de este método se vean drásticamente deteriorados."
   ]
  },
  {
   "cell_type": "markdown",
   "metadata": {},
   "source": [
    "### Ruido Gaussiano"
   ]
  },
  {
   "cell_type": "code",
   "execution_count": null,
   "metadata": {},
   "outputs": [],
   "source": [
    "show_img_s([edge_detectors.kirsch_compass(I) for I in gaussian_contaminated_lenas])"
   ]
  },
  {
   "cell_type": "markdown",
   "metadata": {},
   "source": [
    "### Ruido de Rayleigh"
   ]
  },
  {
   "cell_type": "code",
   "execution_count": null,
   "metadata": {},
   "outputs": [],
   "source": [
    "show_img_s([edge_detectors.kirsch_compass(I) for I in rayleigh_contminated_lenas])"
   ]
  }
 ],
 "metadata": {
  "kernelspec": {
   "display_name": "Python 2",
   "language": "python",
   "name": "python2"
  },
  "language_info": {
   "codemirror_mode": {
    "name": "ipython",
    "version": 2
   },
   "file_extension": ".py",
   "mimetype": "text/x-python",
   "name": "python",
   "nbconvert_exporter": "python",
   "pygments_lexer": "ipython2",
   "version": "2.7.13"
  },
  "toc": {
   "nav_menu": {},
   "number_sections": false,
   "sideBar": false,
   "skip_h1_title": false,
   "toc_cell": false,
   "toc_position": {
    "height": "410px",
    "left": "1680px",
    "right": "20px",
    "top": "172.993px",
    "width": "262px"
   },
   "toc_section_display": "block",
   "toc_window_display": true
  }
 },
 "nbformat": 4,
 "nbformat_minor": 2
}
